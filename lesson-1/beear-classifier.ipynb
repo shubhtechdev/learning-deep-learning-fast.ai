{
  "cells": [
    {
      "cell_type": "markdown",
      "metadata": {
        "id": "8-RMwbRfPAZp"
      },
      "source": [
        "## Is it a bear?\n",
        "[Reference Link](https://github.com/fastai/fastbook/blob/master/02_production.ipynb)"
      ]
    },
    {
      "cell_type": "code",
      "execution_count": null,
      "metadata": {
        "id": "cTCo_jmEPAZq"
      },
      "outputs": [],
      "source": [
        "#NB: Kaggle requires phone verification to use the internet or a GPU. If you haven't done that yet, the cell below will fail\n",
        "#    This code is only here to check that your internet is enabled. It doesn't do anything else.\n",
        "#    Here's a help thread on getting your phone number verified: https://www.kaggle.com/product-feedback/135367\n",
        "\n",
        "import socket,warnings\n",
        "try:\n",
        "    socket.setdefaulttimeout(1)\n",
        "    socket.socket(socket.AF_INET, socket.SOCK_STREAM).connect(('1.1.1.1', 53))\n",
        "except socket.error as ex: raise Exception(\"STOP: No internet. Click '>|' in top right and set 'Internet' switch to on\")"
      ]
    },
    {
      "cell_type": "code",
      "execution_count": null,
      "metadata": {
        "id": "q1URbc5qPAZr"
      },
      "outputs": [],
      "source": [
        "# It's a good idea to ensure you're running the latest version of any libraries you need.\n",
        "# `!pip install -Uqq <libraries>` upgrades to the latest version of <libraries>\n",
        "# NB: You can safely ignore any warnings or errors pip spits out about running as root or incompatibilities\n",
        "import os\n",
        "iskaggle = os.environ.get('KAGGLE_KERNEL_RUN_TYPE', '')\n",
        "\n",
        "if iskaggle:\n",
        "    !pip install -Uqq fastai"
      ]
    },
    {
      "cell_type": "markdown",
      "metadata": {
        "id": "MvNog_lfPAZs"
      },
      "source": [
        "## Step 1: Download images of bear and non-bear"
      ]
    },
    {
      "cell_type": "code",
      "execution_count": null,
      "metadata": {
        "id": "kC2mEtmpPAZt"
      },
      "outputs": [],
      "source": [
        "# Skip this cell if you already have duckduckgo_search installed\n",
        "!pip install -Uqq ddgs"
      ]
    },
    {
      "cell_type": "code",
      "execution_count": null,
      "metadata": {
        "id": "1JVtRdmQPAZt"
      },
      "outputs": [],
      "source": [
        "from ddgs import DDGS\n",
        "from fastcore.all import *\n",
        "\n",
        "def search_images(keywords, max_images=200): return L(DDGS().images(keywords, max_results=max_images)).itemgot('image')"
      ]
    },
    {
      "cell_type": "markdown",
      "metadata": {
        "id": "HBek-eE_PAZt"
      },
      "source": [
        "Let's start by searching for a bear photo and seeing what kind of result we get. We'll start by getting URLs from a search:"
      ]
    },
    {
      "cell_type": "code",
      "execution_count": null,
      "metadata": {
        "id": "mxYqgAhEPAZt"
      },
      "outputs": [],
      "source": [
        "urls = search_images('bear photos', max_images=1)\n",
        "urls[0]"
      ]
    },
    {
      "cell_type": "markdown",
      "metadata": {
        "id": "vitFVM3SPAZu"
      },
      "source": [
        "...and then download a URL and take a look at it:"
      ]
    },
    {
      "cell_type": "code",
      "execution_count": null,
      "metadata": {
        "id": "WvJmQQEAPAZu"
      },
      "outputs": [],
      "source": [
        "from fastdownload import download_url\n",
        "dest = 'bear.jpg'\n",
        "download_url(urls[0], dest, show_progress=False)\n",
        "\n",
        "from fastai.vision.all import *\n",
        "im = Image.open(dest)\n",
        "im.to_thumb(256,256)"
      ]
    },
    {
      "cell_type": "markdown",
      "metadata": {
        "id": "6m3X6H45PAZu"
      },
      "source": [
        "Now let's do the same with \"grizzly bear photos\":"
      ]
    },
    {
      "cell_type": "code",
      "execution_count": null,
      "metadata": {
        "id": "L7rX5cErPAZu"
      },
      "outputs": [],
      "source": [
        "download_url(search_images('grizzly bear photos', max_images=1)[0], 'grizzly_bear.jpg', show_progress=False)\n",
        "Image.open('grizzly_bear.jpg').to_thumb(256,256)"
      ]
    },
    {
      "cell_type": "markdown",
      "metadata": {
        "id": "xvxAcqiOPAZv"
      },
      "source": [
        "Our searches seem to be giving reasonable results, so let's grab 200 examples of each of 'grizzly','black','teddy','polar' photos, and save each group of photos to a different folder:"
      ]
    },
    {
      "cell_type": "code",
      "execution_count": null,
      "metadata": {
        "id": "OZwxVA2PPAZv"
      },
      "outputs": [],
      "source": [
        "searches = 'grizzly','black','teddy','polar'\n",
        "path = Path('bear')\n",
        "from time import sleep\n",
        "\n",
        "if not path.exists():\n",
        "    path.mkdir()\n",
        "    for o in searches:\n",
        "        dest = (path/o)\n",
        "        dest.mkdir(exist_ok=True, parents=True)\n",
        "        download_images(dest, urls=search_images(f'{o} bear photo'))"
      ]
    },
    {
      "cell_type": "markdown",
      "metadata": {
        "id": "T1C9YQLYPAZv"
      },
      "source": []
    },
    {
      "cell_type": "markdown",
      "metadata": {
        "id": "kHCsJZmePAZv"
      },
      "source": [
        "Some photos might not download correctly which could cause our model training to fail, so we'll remove them:"
      ]
    },
    {
      "cell_type": "code",
      "execution_count": null,
      "metadata": {
        "id": "KF2jSDUcPAZw"
      },
      "outputs": [],
      "source": [
        "failed = verify_images(get_image_files(path))\n",
        "failed.map(Path.unlink)\n",
        "len(failed)"
      ]
    },
    {
      "cell_type": "code",
      "execution_count": null,
      "metadata": {
        "id": "u1OTa9--lDNa"
      },
      "outputs": [],
      "source": [
        "bears = DataBlock(\n",
        "    blocks=(ImageBlock, CategoryBlock),\n",
        "    get_items=get_image_files,\n",
        "    splitter=RandomSplitter(valid_pct=0.2, seed=42),\n",
        "    get_y=parent_label,\n",
        "    item_tfms=Resize(128))\n"
      ]
    },
    {
      "cell_type": "code",
      "execution_count": null,
      "metadata": {
        "id": "I6dOvbqrljjM"
      },
      "outputs": [],
      "source": [
        "dls = bears.dataloaders(path)"
      ]
    },
    {
      "cell_type": "code",
      "execution_count": null,
      "metadata": {
        "id": "9vbtykASloOA"
      },
      "outputs": [],
      "source": [
        "#View datablocks\n",
        "\n",
        "dls.valid.show_batch(max_n=4, nrows=1)"
      ]
    },
    {
      "cell_type": "code",
      "execution_count": null,
      "metadata": {
        "id": "90n1G-l9nIua"
      },
      "outputs": [],
      "source": [
        "#check resize options\n",
        "\n",
        "bears = bears.new(item_tfms=Resize(128, ResizeMethod.Squish))\n",
        "dls = bears.dataloaders(path)\n",
        "dls.valid.show_batch(max_n=4, nrows=1)"
      ]
    },
    {
      "cell_type": "code",
      "execution_count": null,
      "metadata": {
        "id": "y0mT1o7jnQZk"
      },
      "outputs": [],
      "source": [
        "#changing the pad mode\n",
        "bears = bears.new(item_tfms=Resize(128, ResizeMethod.Pad, pad_mode='zeros'))\n",
        "dls = bears.dataloaders(path)\n",
        "dls.valid.show_batch(max_n=4, nrows=1)\n"
      ]
    },
    {
      "cell_type": "markdown",
      "metadata": {
        "id": "U2og3B0IPAZw"
      },
      "source": [
        "To train a model, we'll need `DataLoaders`, which is an object that contains a *training set* (the images used to create a model) and a *validation set* (the images used to check the accuracy of a model -- not used during training). In `fastai` we can create that easily using a `DataBlock`, and view sample images from it:"
      ]
    },
    {
      "cell_type": "code",
      "execution_count": null,
      "metadata": {
        "id": "ngGMU3menbXg"
      },
      "outputs": [],
      "source": [
        "#changing the scal size\n",
        "# replace Resize with RandomResizedCrop, which is the transform that provides the behavior we just described. The most important parameter to pass in is min_scale, which determines how much of the image to select at minimum each time:\n",
        "bears = bears.new(item_tfms=RandomResizedCrop(128, min_scale=0.3))\n",
        "dls = bears.dataloaders(path)\n",
        "dls.train.show_batch(max_n=4, nrows=1, unique=True)"
      ]
    },
    {
      "cell_type": "code",
      "execution_count": null,
      "metadata": {
        "id": "oTCvugTfnsT-"
      },
      "outputs": [],
      "source": [
        "#Data Augmentation\n",
        "bears = bears.new(item_tfms=Resize(128), batch_tfms=aug_transforms(mult=2))\n",
        "dls = bears.dataloaders(path)\n",
        "dls.train.show_batch(max_n=8, nrows=2, unique=True)\n"
      ]
    },
    {
      "cell_type": "markdown",
      "metadata": {
        "id": "YjgDirv9n88w"
      },
      "source": [
        "## Step 2: Train our model"
      ]
    },
    {
      "cell_type": "code",
      "execution_count": null,
      "metadata": {
        "id": "mHcTvBM-n5dE"
      },
      "outputs": [],
      "source": [
        "## Step 2: Train our model\n",
        "##We don't have a lot of data for our problem (150 pictures of each sort of bear at most), so to train our model,\n",
        "## we'll use RandomResizedCrop with an image size of 224 px, which is fairly standard for image classification, and default aug_transforms\n",
        "bears = bears.new(\n",
        "    item_tfms=RandomResizedCrop(224, min_scale=0.5),\n",
        "    batch_tfms=aug_transforms())\n",
        "dls = bears.dataloaders(path)"
      ]
    },
    {
      "cell_type": "code",
      "execution_count": null,
      "metadata": {
        "id": "po4McFXzoKT_"
      },
      "outputs": [],
      "source": [
        "learn = vision_learner(dls, resnet18, metrics=error_rate)\n",
        "learn.fine_tune(3)"
      ]
    },
    {
      "cell_type": "code",
      "execution_count": null,
      "metadata": {
        "id": "fjuXi0IiojhH"
      },
      "outputs": [],
      "source": [
        "#Interpret the confusion matrix\n",
        "interp = ClassificationInterpretation.from_learner(learn)\n",
        "interp.plot_confusion_matrix()"
      ]
    },
    {
      "cell_type": "code",
      "execution_count": null,
      "metadata": {
        "id": "_s2znYlEpDRR"
      },
      "outputs": [],
      "source": [
        "#validate the top losses\n",
        "interp.plot_top_losses(5, nrows=1)"
      ]
    },
    {
      "cell_type": "code",
      "execution_count": null,
      "metadata": {
        "id": "RclCaYs1pMFo"
      },
      "outputs": [],
      "source": [
        "#Lets clean up\n",
        "from fastai.vision.widgets import ImageClassifierCleaner\n",
        "cleaner = ImageClassifierCleaner(learn)\n",
        "cleaner\n"
      ]
    },
    {
      "cell_type": "code",
      "execution_count": null,
      "metadata": {
        "id": "Qv87S_tbqFQC"
      },
      "outputs": [],
      "source": [
        "#clear the false data\n",
        "for idx in cleaner.delete(): cleaner.fns[idx].unlink()\n",
        "for idx,cat in cleaner.change(): shutil.move(str(cleaner.fns[idx]), path/cat)"
      ]
    },
    {
      "cell_type": "markdown",
      "metadata": {
        "id": "ZxmJfA0bPAZz"
      },
      "source": [
        "## Step 3: Use our model (and build your own!)"
      ]
    },
    {
      "cell_type": "markdown",
      "metadata": {
        "id": "Q3xIVsFzPAZz"
      },
      "source": [
        "Let's see what our model thinks about that bear we downloaded at the start:"
      ]
    },
    {
      "cell_type": "code",
      "execution_count": null,
      "metadata": {
        "id": "HR42fzqKPAZz"
      },
      "outputs": [],
      "source": [
        "title,_,probs = learn.predict(PILImage.create('bear.jpg'))\n",
        "print(f\"This is a: {title}.\")\n",
        "print(f\"Probability: {probs[0]:.4f}\")"
      ]
    },
    {
      "cell_type": "markdown",
      "metadata": {
        "id": "REm4vhpirLOx"
      },
      "source": [
        "# Step 4: Export our model"
      ]
    },
    {
      "cell_type": "code",
      "execution_count": null,
      "metadata": {
        "id": "zLYFITBsrRUE"
      },
      "outputs": [],
      "source": [
        "learn.export('model.pkl')"
      ]
    },
    {
      "cell_type": "code",
      "execution_count": null,
      "metadata": {
        "id": "zfSddZqerY-f"
      },
      "outputs": [],
      "source": [
        "#Validate if downloaded or not\n",
        "path = Path()\n",
        "path.ls(file_exts='.pkl')"
      ]
    },
    {
      "cell_type": "markdown",
      "metadata": {
        "id": "joIUSKYQwuQ2"
      },
      "source": []
    }
  ],
  "metadata": {
    "accelerator": "GPU",
    "colab": {
      "gpuType": "T4",
      "provenance": []
    },
    "kernelspec": {
      "display_name": "Python 3",
      "name": "python3"
    },
    "language_info": {
      "codemirror_mode": {
        "name": "ipython",
        "version": 3
      },
      "file_extension": ".py",
      "mimetype": "text/x-python",
      "name": "python",
      "nbconvert_exporter": "python",
      "pygments_lexer": "ipython3",
      "version": "3.10.12"
    }
  },
  "nbformat": 4,
  "nbformat_minor": 0
}
